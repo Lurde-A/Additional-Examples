{
 "cells": [
  {
   "cell_type": "markdown",
   "metadata": {},
   "source": [
    "# Libraries"
   ]
  },
  {
   "cell_type": "markdown",
   "metadata": {},
   "source": []
  },
  {
   "cell_type": "code",
   "execution_count": 3,
   "metadata": {},
   "outputs": [],
   "source": [
    "import pandas as pd\n",
    "import numpy as np\n",
    "import matplotlib.pyplot as plt\n",
    "import statsmodels.api as sm\n",
    "\n"
   ]
  },
  {
   "cell_type": "markdown",
   "metadata": {},
   "source": [
    "# Database"
   ]
  },
  {
   "cell_type": "code",
   "execution_count": 4,
   "metadata": {},
   "outputs": [
    {
     "data": {
      "text/html": [
       "<div>\n",
       "<style scoped>\n",
       "    .dataframe tbody tr th:only-of-type {\n",
       "        vertical-align: middle;\n",
       "    }\n",
       "\n",
       "    .dataframe tbody tr th {\n",
       "        vertical-align: top;\n",
       "    }\n",
       "\n",
       "    .dataframe thead th {\n",
       "        text-align: right;\n",
       "    }\n",
       "</style>\n",
       "<table border=\"1\" class=\"dataframe\">\n",
       "  <thead>\n",
       "    <tr style=\"text-align: right;\">\n",
       "      <th></th>\n",
       "      <th>marketplace_events_domain</th>\n",
       "      <th>marketplace_events_page_type</th>\n",
       "      <th>marketplace_events_session_id</th>\n",
       "      <th>added_to_cart</th>\n",
       "      <th>event_time</th>\n",
       "      <th>marketplace_events_user_id</th>\n",
       "      <th>event_id</th>\n",
       "      <th>part_type</th>\n",
       "      <th>part_price</th>\n",
       "    </tr>\n",
       "  </thead>\n",
       "  <tbody>\n",
       "    <tr>\n",
       "      <th>0</th>\n",
       "      <td>brand.name</td>\n",
       "      <td>Search results</td>\n",
       "      <td>99ce30f9-e95c-4e80-9860-d59d2c005e76</td>\n",
       "      <td>NaN</td>\n",
       "      <td>2024-09-26 15:24:09</td>\n",
       "      <td>a672268e-bac1-42c8-bd1c-069cbbaf3211</td>\n",
       "      <td>517357b9-8346-45c7-be8d-7953ff317b90</td>\n",
       "      <td>NaN</td>\n",
       "      <td>NaN</td>\n",
       "    </tr>\n",
       "    <tr>\n",
       "      <th>1</th>\n",
       "      <td>brand.name</td>\n",
       "      <td>Search results</td>\n",
       "      <td>99ce30f9-e95c-4e80-9860-d59d2c005e76</td>\n",
       "      <td>NaN</td>\n",
       "      <td>2024-09-26 15:24:10</td>\n",
       "      <td>a672268e-bac1-42c8-bd1c-069cbbaf3211</td>\n",
       "      <td>b4457875-a63d-417f-a6da-f8e5e11511b8</td>\n",
       "      <td>NaN</td>\n",
       "      <td>NaN</td>\n",
       "    </tr>\n",
       "    <tr>\n",
       "      <th>2</th>\n",
       "      <td>brand.name</td>\n",
       "      <td>Search results</td>\n",
       "      <td>99ce30f9-e95c-4e80-9860-d59d2c005e76</td>\n",
       "      <td>NaN</td>\n",
       "      <td>2024-09-26 15:24:16</td>\n",
       "      <td>a672268e-bac1-42c8-bd1c-069cbbaf3211</td>\n",
       "      <td>80bd01c3-1218-4093-9dde-1153e91b244e</td>\n",
       "      <td>NaN</td>\n",
       "      <td>NaN</td>\n",
       "    </tr>\n",
       "    <tr>\n",
       "      <th>3</th>\n",
       "      <td>brand.name</td>\n",
       "      <td>Search results</td>\n",
       "      <td>99ce30f9-e95c-4e80-9860-d59d2c005e76</td>\n",
       "      <td>NaN</td>\n",
       "      <td>2024-09-26 15:24:31</td>\n",
       "      <td>a672268e-bac1-42c8-bd1c-069cbbaf3211</td>\n",
       "      <td>91a7b146-2892-430a-b95a-a77a6bb8f95c</td>\n",
       "      <td>NaN</td>\n",
       "      <td>NaN</td>\n",
       "    </tr>\n",
       "    <tr>\n",
       "      <th>4</th>\n",
       "      <td>brand.name</td>\n",
       "      <td>Product page</td>\n",
       "      <td>99ce87eb-fb38-4d97-a773-20c1b434cc4e</td>\n",
       "      <td>NaN</td>\n",
       "      <td>2024-09-17 11:25:56</td>\n",
       "      <td>4f9ab9e0-4375-4221-b0b3-c03ad83249b5</td>\n",
       "      <td>740c3316-dda9-46fb-8b3c-800d307ea553</td>\n",
       "      <td>NaN</td>\n",
       "      <td>NaN</td>\n",
       "    </tr>\n",
       "  </tbody>\n",
       "</table>\n",
       "</div>"
      ],
      "text/plain": [
       "  marketplace_events_domain marketplace_events_page_type  \\\n",
       "0                  brand.name               Search results   \n",
       "1                  brand.name               Search results   \n",
       "2                  brand.name               Search results   \n",
       "3                  brand.name               Search results   \n",
       "4                  brand.name                 Product page   \n",
       "\n",
       "          marketplace_events_session_id added_to_cart           event_time  \\\n",
       "0  99ce30f9-e95c-4e80-9860-d59d2c005e76           NaN  2024-09-26 15:24:09   \n",
       "1  99ce30f9-e95c-4e80-9860-d59d2c005e76           NaN  2024-09-26 15:24:10   \n",
       "2  99ce30f9-e95c-4e80-9860-d59d2c005e76           NaN  2024-09-26 15:24:16   \n",
       "3  99ce30f9-e95c-4e80-9860-d59d2c005e76           NaN  2024-09-26 15:24:31   \n",
       "4  99ce87eb-fb38-4d97-a773-20c1b434cc4e           NaN  2024-09-17 11:25:56   \n",
       "\n",
       "             marketplace_events_user_id                              event_id  \\\n",
       "0  a672268e-bac1-42c8-bd1c-069cbbaf3211  517357b9-8346-45c7-be8d-7953ff317b90   \n",
       "1  a672268e-bac1-42c8-bd1c-069cbbaf3211  b4457875-a63d-417f-a6da-f8e5e11511b8   \n",
       "2  a672268e-bac1-42c8-bd1c-069cbbaf3211  80bd01c3-1218-4093-9dde-1153e91b244e   \n",
       "3  a672268e-bac1-42c8-bd1c-069cbbaf3211  91a7b146-2892-430a-b95a-a77a6bb8f95c   \n",
       "4  4f9ab9e0-4375-4221-b0b3-c03ad83249b5  740c3316-dda9-46fb-8b3c-800d307ea553   \n",
       "\n",
       "  part_type  part_price  \n",
       "0       NaN         NaN  \n",
       "1       NaN         NaN  \n",
       "2       NaN         NaN  \n",
       "3       NaN         NaN  \n",
       "4       NaN         NaN  "
      ]
     },
     "execution_count": 4,
     "metadata": {},
     "output_type": "execute_result"
    }
   ],
   "source": [
    "df = pd.read_csv('/.../events_data.csv')\n",
    "df.head()"
   ]
  },
  {
   "cell_type": "markdown",
   "metadata": {},
   "source": [
    "# Database analysis"
   ]
  },
  {
   "cell_type": "markdown",
   "metadata": {},
   "source": [
    "## Events page type analysis"
   ]
  },
  {
   "cell_type": "code",
   "execution_count": 5,
   "metadata": {},
   "outputs": [
    {
     "name": "stdout",
     "output_type": "stream",
     "text": [
      "marketplace_events_page_type\n",
      "Checkout success      5852\n",
      "Homepage             74531\n",
      "Parts list          122587\n",
      "Product page        396723\n",
      "Search results      311054\n",
      "Name: count, dtype: int64\n"
     ]
    },
    {
     "data": {
      "image/png": "[encoded data removed]",
      "text/plain": [
       "<Figure size 640x480 with 1 Axes>"
      ]
     },
     "metadata": {},
     "output_type": "display_data"
    }
   ],
   "source": [
    "events_pages = df.groupby('marketplace_events_page_type')['marketplace_events_page_type'].value_counts()\n",
    "print(events_pages)\n",
    "plt.pie(events_pages, labels=['Checkout success','Homepage', 'Parts list', 'Product page', 'Search results'], autopct='%0.1f%%')\n",
    "plt.title('Events on each page type')\n",
    "plt.savefig('Events_happened_on_each_page_type.png')"
   ]
  },
  {
   "cell_type": "markdown",
   "metadata": {},
   "source": [
    "## General"
   ]
  },
  {
   "cell_type": "markdown",
   "metadata": {},
   "source": [
    "### Whole df database statistics"
   ]
  },
  {
   "cell_type": "code",
   "execution_count": 6,
   "metadata": {},
   "outputs": [
    {
     "name": "stdout",
     "output_type": "stream",
     "text": [
      "The length of the database: 910747\n",
      "# of different marketplace_events_domains - 1: ['brand.name']\n",
      "# of different marketplace_events_page_types - 5: ['Search results' 'Product page' 'Parts list' 'Homepage'\n",
      " 'Checkout success']\n",
      "# of different marketplace_events_session_ids - 132229\n",
      "# of different options for added_to_cart - 2: [nan 'Add to cart']\n",
      "# of different event_times - 499172\n",
      "# of different marketplace_events_user_ids - 97831\n",
      "# of different event_ids - 714216\n",
      "# of different part_types - 20: [nan 'Door' 'Engine' 'Devices/switches/electronic system' 'Front axle'\n",
      " 'Glass' 'Cabin/interior' 'Exterior front body parts'\n",
      " 'Fuel mixture system' 'Lighting system' 'Exterior rear body parts'\n",
      " 'Brake system' 'Gearbox/clutch/transmission' 'Wheels/tires/caps'\n",
      " 'Rear axle' 'Body/body parts/hook'\n",
      " 'Headlight/headlamp washing/cleaning system' 'Other parts'\n",
      " 'Air conditioning-heating system/radiators' 'Gas exhaust system']\n",
      "# of different part_prices - 1489\n"
     ]
    }
   ],
   "source": [
    "print(\"The length of the database: \" + str(len(df)))\n",
    "print(\"# of different marketplace_events_domains - \" + str(len(df['marketplace_events_domain'].unique())) + \": \" + str(df['marketplace_events_domain'].unique()))\n",
    "print(\"# of different marketplace_events_page_types - \" + str(len(df['marketplace_events_page_type'].unique())) + \": \" + str(df['marketplace_events_page_type'].unique()))\n",
    "print(\"# of different marketplace_events_session_ids - \" + str(len(df['marketplace_events_session_id'].unique())))\n",
    "print(\"# of different options for added_to_cart - \" + str(len(df['added_to_cart'].unique())) + \": \" + str(df['added_to_cart'].unique()))\n",
    "print(\"# of different event_times - \" + str(len(df['event_time'].unique())))\n",
    "print(\"# of different marketplace_events_user_ids - \" + str(len(df['marketplace_events_user_id'].unique())))\n",
    "print(\"# of different event_ids - \" + str(len(df['event_id'].unique())))\n",
    "print(\"# of different part_types - \" + str(len(df['part_type'].unique())) + \": \" + str(df['part_type'].unique()))\n",
    "print(\"# of different part_prices - \" + str(len(df['part_price'].unique())))\n"
   ]
  },
  {
   "cell_type": "markdown",
   "metadata": {},
   "source": [
    "### Information about Events by their event_id"
   ]
  },
  {
   "cell_type": "code",
   "execution_count": 7,
   "metadata": {},
   "outputs": [
    {
     "name": "stdout",
     "output_type": "stream",
     "text": [
      "910747\n",
      "714216\n",
      "96780\n",
      "event_id\n",
      "95c390c5-e4f3-4f19-9b6b-a62a6d24c396    4044\n",
      "6463f634-ebc9-41ea-8453-0c24720584f9    4042\n",
      "fee05e9d-9842-462f-a83c-02d3e1c947b7    4018\n",
      "6b8ee426-beca-4d97-90e3-1d20a523b718    4017\n",
      "8ccd736d-3ea9-46b1-a5bc-6f4fb653ccab    1492\n",
      "14c5f74b-4360-4fcc-928c-745879d37335    1481\n",
      "c74074f8-bcb3-4490-8ad2-76d4755dde15    1465\n",
      "d3d5e223-07b2-4e2b-9d7b-169756f3362e    1461\n",
      "f4928207-82d7-4409-ada3-04406c0eb325    1460\n",
      "7f580f62-9c80-4762-97fd-2e59dc1491c0    1450\n",
      "Name: count, dtype: int64\n",
      "event_id\n",
      "95c390c5-e4f3-4f19-9b6b-a62a6d24c396    4044\n",
      "6463f634-ebc9-41ea-8453-0c24720584f9    4042\n",
      "fee05e9d-9842-462f-a83c-02d3e1c947b7    4018\n",
      "6b8ee426-beca-4d97-90e3-1d20a523b718    4017\n",
      "8ccd736d-3ea9-46b1-a5bc-6f4fb653ccab    1492\n",
      "Name: count, dtype: int64\n",
      "714216\n"
     ]
    }
   ],
   "source": [
    "events = df.groupby('event_id')['event_id'].value_counts()\n",
    "#print(events.head())\n",
    "filtered_events = events[events > 1].sort_values(ascending=False)\n",
    "print(len(df['event_id']))\n",
    "print(len(events))\n",
    "print(len(filtered_events))\n",
    "print(filtered_events.head(10))\n",
    "\n",
    "bandymas = df['event_id'].value_counts().sort_values(ascending=False)\n",
    "print(bandymas.head())\n",
    "print(len(bandymas))"
   ]
  },
  {
   "cell_type": "markdown",
   "metadata": {},
   "source": [
    "## Categories, Revenue"
   ]
  },
  {
   "cell_type": "markdown",
   "metadata": {},
   "source": [
    "#### Checking if there are people who reached Checkout success page, but there are no part_type value next to any row with their id"
   ]
  },
  {
   "cell_type": "code",
   "execution_count": 8,
   "metadata": {},
   "outputs": [
    {
     "name": "stdout",
     "output_type": "stream",
     "text": [
      "       marketplace_events_domain marketplace_events_page_type  \\\n",
      "495944                  brand.name               Search results   \n",
      "\n",
      "               marketplace_events_session_id added_to_cart  \\\n",
      "495944  2434a692-9086-4c50-aa92-9ede842eab19   Add to cart   \n",
      "\n",
      "                 event_time            marketplace_events_user_id  \\\n",
      "495944  2024-09-23 20:27:24  172481b6-2c4d-4d9d-8a09-e6b6bad65e83   \n",
      "\n",
      "                                    event_id part_type  part_price  \n",
      "495944  c7aae9ca-e758-444b-98c4-593d11428c77       NaN         NaN  \n",
      "Empty DataFrame\n",
      "Columns: [marketplace_events_domain, marketplace_events_page_type, marketplace_events_session_id, added_to_cart, event_time, marketplace_events_user_id, event_id, part_type, part_price]\n",
      "Index: []\n"
     ]
    }
   ],
   "source": [
    "print(df[(df.marketplace_events_user_id =='172481b6-2c4d-4d9d-8a09-e6b6bad65e83')&(df.added_to_cart.notna())])\n",
    "print(df[(df.marketplace_events_user_id =='172481b6-2c4d-4d9d-8a09-e6b6bad65e83')&(df.part_type.notna())])"
   ]
  },
  {
   "cell_type": "markdown",
   "metadata": {},
   "source": [
    "### For stock planning - creating database when user not only added to cart, but also bought something and which day it happened"
   ]
  },
  {
   "cell_type": "code",
   "execution_count": 9,
   "metadata": {},
   "outputs": [
    {
     "name": "stdout",
     "output_type": "stream",
     "text": [
      "             marketplace_events_user_id                    part_type  \\\n",
      "0  16488e6c-265c-4d5f-a620-d93c56d72573          Fuel mixture system   \n",
      "1  16488e6c-265c-4d5f-a620-d93c56d72573           Gas exhaust system   \n",
      "2  168d117d-eb06-4d4a-8152-beb59bdf1b09  Gearbox/clutch/transmission   \n",
      "3  16aeadd9-fad0-484b-a736-0b5e4899a4e5          Fuel mixture system   \n",
      "4  16aeadd9-fad0-484b-a736-0b5e4899a4e5  Gearbox/clutch/transmission   \n",
      "5  16aeadd9-fad0-484b-a736-0b5e4899a4e5                       Engine   \n",
      "6  16deda24-44c2-4d3b-94db-47096d004f89           Gas exhaust system   \n",
      "7  16e4e4a0-ea63-4014-97ae-3e10a4378029                          NaN   \n",
      "8  16ecb588-d419-4f80-9b30-ad37194a9b01  Gearbox/clutch/transmission   \n",
      "9  172481b6-2c4d-4d9d-8a09-e6b6bad65e83                          NaN   \n",
      "\n",
      "  event_date_only event_time_only  \n",
      "0      2024-09-24        16:49:27  \n",
      "1      2024-09-24        16:49:27  \n",
      "2      2024-09-28        17:51:06  \n",
      "3      2024-09-10        20:19:15  \n",
      "4      2024-09-10        20:19:15  \n",
      "5      2024-09-10        20:19:15  \n",
      "6      2024-09-22        23:14:20  \n",
      "7      2024-09-18        11:56:55  \n",
      "8      2024-09-02        19:46:20  \n",
      "9      2024-09-23        20:44:55  \n",
      "1900\n",
      "1754\n"
     ]
    }
   ],
   "source": [
    "#Saving user_id and event_time from all the rows where reached page_type was 'Checkout success':\n",
    "checkout_success_users_for_stock = df.loc[df['marketplace_events_page_type'] == 'Checkout success', ['marketplace_events_user_id', 'event_time']]\n",
    "checkout_success_users_for_stock = checkout_success_users_for_stock.drop_duplicates(subset=['marketplace_events_user_id'], keep='first') \n",
    "\n",
    "#Picking up all the rows' and columns' information from the original dataframe df:\n",
    "relevant_df_rows_for_stock = df[df['marketplace_events_user_id'].isin(checkout_success_users_for_stock['marketplace_events_user_id'])]\n",
    "relevant_df_rows_for_stock = relevant_df_rows_for_stock.drop_duplicates(subset=['marketplace_events_user_id', 'part_type'])\n",
    "grouped = relevant_df_rows_for_stock.groupby('marketplace_events_user_id')['part_type'].agg(list)#.unique() might also be used as no one \n",
    "                                                                                       # added the same type product twice:) - checked.\n",
    "#Making sure I'll have a new clean dataframe to work with:                                                                                       \n",
    "new_df_sold_event_time = grouped.reset_index()\n",
    "new_df_sold_event_time['part_type'] = new_df_sold_event_time['part_type'].apply(lambda x: [item for item in x if not pd.isna(item)])\n",
    "\n",
    "#Attaching to the new dataframe event_time when the purchase - 'Checkout success' happened:\n",
    "new_df_sold_event_time = new_df_sold_event_time.merge(checkout_success_users_for_stock, on='marketplace_events_user_id', how='left')\n",
    "\n",
    "#Separating part_type generated lists into separate rows for each item:  \n",
    "stock_planning_df = new_df_sold_event_time.explode('part_type', ignore_index=True)\n",
    "\n",
    "#Separating event_time to event_date & event_time:\n",
    "stock_planning_df['event_date_only'] = pd.to_datetime(stock_planning_df['event_time']).dt.date\n",
    "stock_planning_df['event_time_only'] = pd.to_datetime(stock_planning_df['event_time']).dt.time\n",
    "stock_planning_df = stock_planning_df.drop(columns=['event_time'])\n",
    "\n",
    "print(stock_planning_df.head(10))\n",
    "print(len(stock_planning_df))\n",
    "print(len(stock_planning_df[stock_planning_df['part_type'].notna()]))\n",
    "\n",
    "#new_df_sold_event_time.rename(columns={'part_type': 'part_types'}, inplace=True)\n",
    "#new_df_sold['part_types'] = new_df_sold['part_types'].apply(list)"
   ]
  },
  {
   "cell_type": "markdown",
   "metadata": {},
   "source": [
    "### ??? Trying to evaluate how many different sessions the same unique id had"
   ]
  },
  {
   "cell_type": "code",
   "execution_count": 10,
   "metadata": {},
   "outputs": [
    {
     "name": "stdout",
     "output_type": "stream",
     "text": [
      "Detailed Session Durations (each unique session):\n",
      "             marketplace_events_user_id         marketplace_events_session_id  \\\n",
      "0  82d4ddec-412d-424a-8251-7a33d9acc067  7b9bd5db-a6ab-4fd4-aeb1-3b1f6249caf6   \n",
      "1  45982a27-49b5-4a96-bd97-7f76daf180e5  7821fc85-aa92-45c4-8fd8-9241ca2092a8   \n",
      "2  4f7df5f6-0c56-4a51-9d0c-787c9e96db65  a190c58d-6440-4b5e-addb-a131ea79364a   \n",
      "3  32caf92a-dd3d-4dae-963e-94e5f6eed477  0b90570a-4b0d-4626-b069-7754c45421b7   \n",
      "4  1cc81a10-eee8-4c4c-a31f-54961f2d01e9  ef47a4ff-a4fd-4017-ae99-53443556a38e   \n",
      "\n",
      "        session_start         session_end  session_duration  \n",
      "0 2024-09-02 16:58:01 2024-09-29 17:55:01         2336220.0  \n",
      "1 2024-09-03 10:54:40 2024-09-28 17:14:34         2182794.0  \n",
      "2 2024-09-02 11:34:41 2024-09-27 15:17:42         2173381.0  \n",
      "3 2024-09-02 15:20:45 2024-09-26 08:50:38         2050193.0  \n",
      "4 2024-09-02 06:19:36 2024-09-25 19:26:54         2034438.0  \n",
      "\n",
      "User Session Summary (grouped by user):\n",
      "             marketplace_events_user_id  total_sessions  total_duration  \\\n",
      "0  82d4ddec-412d-424a-8251-7a33d9acc067               7       2339123.0   \n",
      "1  45982a27-49b5-4a96-bd97-7f76daf180e5               3       2185422.0   \n",
      "2  4f7df5f6-0c56-4a51-9d0c-787c9e96db65               4       2173485.0   \n",
      "3  32caf92a-dd3d-4dae-963e-94e5f6eed477               2       2051233.0   \n",
      "4  1cc81a10-eee8-4c4c-a31f-54961f2d01e9               3       2034650.0   \n",
      "\n",
      "   avg_duration  \n",
      "0  3.341604e+05  \n",
      "1  7.284740e+05  \n",
      "2  5.433712e+05  \n",
      "3  1.025616e+06  \n",
      "4  6.782167e+05  \n",
      "       marketplace_events_domain marketplace_events_page_type  \\\n",
      "71291                   brand.name                 Product page   \n",
      "71292                   brand.name                 Product page   \n",
      "71293                   brand.name                 Product page   \n",
      "71294                   brand.name                 Product page   \n",
      "105886                  brand.name                 Product page   \n",
      "105887                  brand.name                 Product page   \n",
      "105888                  brand.name                 Product page   \n",
      "105889                  brand.name                 Product page   \n",
      "260322                  brand.name                 Product page   \n",
      "643424                  brand.name                 Product page   \n",
      "643425                  brand.name                 Product page   \n",
      "643426                  brand.name                 Product page   \n",
      "643427                  brand.name                 Product page   \n",
      "664428                  brand.name                 Product page   \n",
      "685958                  brand.name                 Product page   \n",
      "685959                  brand.name                 Product page   \n",
      "685960                  brand.name                 Product page   \n",
      "685961                  brand.name                 Product page   \n",
      "685962                  brand.name                 Product page   \n",
      "685963                  brand.name                 Product page   \n",
      "685964                  brand.name                 Product page   \n",
      "685965                  brand.name                 Product page   \n",
      "685966                  brand.name                 Product page   \n",
      "685967                  brand.name                 Product page   \n",
      "685968                  brand.name                 Product page   \n",
      "685969                  brand.name                 Product page   \n",
      "685970                  brand.name                 Product page   \n",
      "685971                  brand.name                 Product page   \n",
      "685972                  brand.name                 Product page   \n",
      "685973                  brand.name                 Product page   \n",
      "685974                  brand.name                 Product page   \n",
      "685975                  brand.name                 Product page   \n",
      "685976                  brand.name                 Product page   \n",
      "685977                  brand.name                 Product page   \n",
      "814539                  brand.name                 Product page   \n",
      "814540                  brand.name                 Product page   \n",
      "\n",
      "               marketplace_events_session_id added_to_cart  \\\n",
      "71291   aea4cc67-29a1-4d39-aa73-a853b6d57e78           NaN   \n",
      "71292   aea4cc67-29a1-4d39-aa73-a853b6d57e78           NaN   \n",
      "71293   aea4cc67-29a1-4d39-aa73-a853b6d57e78           NaN   \n",
      "71294   aea4cc67-29a1-4d39-aa73-a853b6d57e78           NaN   \n",
      "105886  b855fa1f-7de5-43fe-8e00-447f6b6f38cc           NaN   \n",
      "105887  b855fa1f-7de5-43fe-8e00-447f6b6f38cc           NaN   \n",
      "105888  b855fa1f-7de5-43fe-8e00-447f6b6f38cc           NaN   \n",
      "105889  b855fa1f-7de5-43fe-8e00-447f6b6f38cc           NaN   \n",
      "260322  e12dbc67-f301-4413-8e2a-116ba7e093fa           NaN   \n",
      "643424  51362083-66a6-44f2-90f8-ff89357cc588           NaN   \n",
      "643425  51362083-66a6-44f2-90f8-ff89357cc588           NaN   \n",
      "643426  51362083-66a6-44f2-90f8-ff89357cc588           NaN   \n",
      "643427  51362083-66a6-44f2-90f8-ff89357cc588           NaN   \n",
      "664428  579c4e01-618a-4cdf-8199-357977336e9c           NaN   \n",
      "685958  5e4fb313-6dfd-4fd7-92b8-0611aaa25677           NaN   \n",
      "685959  5e4fb313-6dfd-4fd7-92b8-0611aaa25677           NaN   \n",
      "685960  5e4fb313-6dfd-4fd7-92b8-0611aaa25677           NaN   \n",
      "685961  5e4fb313-6dfd-4fd7-92b8-0611aaa25677           NaN   \n",
      "685962  5e4fb313-6dfd-4fd7-92b8-0611aaa25677           NaN   \n",
      "685963  5e4fb313-6dfd-4fd7-92b8-0611aaa25677           NaN   \n",
      "685964  5e4fb313-6dfd-4fd7-92b8-0611aaa25677           NaN   \n",
      "685965  5e4fb313-6dfd-4fd7-92b8-0611aaa25677           NaN   \n",
      "685966  5e4fb313-6dfd-4fd7-92b8-0611aaa25677           NaN   \n",
      "685967  5e4fb313-6dfd-4fd7-92b8-0611aaa25677           NaN   \n",
      "685968  5e4fb313-6dfd-4fd7-92b8-0611aaa25677           NaN   \n",
      "685969  5e4fb313-6dfd-4fd7-92b8-0611aaa25677           NaN   \n",
      "685970  5e4fb313-6dfd-4fd7-92b8-0611aaa25677           NaN   \n",
      "685971  5e4fb313-6dfd-4fd7-92b8-0611aaa25677           NaN   \n",
      "685972  5e4fb313-6dfd-4fd7-92b8-0611aaa25677           NaN   \n",
      "685973  5e4fb313-6dfd-4fd7-92b8-0611aaa25677           NaN   \n",
      "685974  5e4fb313-6dfd-4fd7-92b8-0611aaa25677           NaN   \n",
      "685975  5e4fb313-6dfd-4fd7-92b8-0611aaa25677           NaN   \n",
      "685976  5e4fb313-6dfd-4fd7-92b8-0611aaa25677           NaN   \n",
      "685977  5e4fb313-6dfd-4fd7-92b8-0611aaa25677           NaN   \n",
      "814539  7b9bd5db-a6ab-4fd4-aeb1-3b1f6249caf6           NaN   \n",
      "814540  7b9bd5db-a6ab-4fd4-aeb1-3b1f6249caf6           NaN   \n",
      "\n",
      "                event_time            marketplace_events_user_id  \\\n",
      "71291  2024-09-29 17:55:01  82d4ddec-412d-424a-8251-7a33d9acc067   \n",
      "71292  2024-09-29 17:55:06  82d4ddec-412d-424a-8251-7a33d9acc067   \n",
      "71293  2024-09-29 17:55:07  82d4ddec-412d-424a-8251-7a33d9acc067   \n",
      "71294  2024-09-29 17:55:12  82d4ddec-412d-424a-8251-7a33d9acc067   \n",
      "105886 2024-09-02 15:39:29  82d4ddec-412d-424a-8251-7a33d9acc067   \n",
      "105887 2024-09-02 15:39:29  82d4ddec-412d-424a-8251-7a33d9acc067   \n",
      "105888 2024-09-02 15:40:32  82d4ddec-412d-424a-8251-7a33d9acc067   \n",
      "105889 2024-09-02 15:40:32  82d4ddec-412d-424a-8251-7a33d9acc067   \n",
      "260322 2024-09-29 19:51:26  82d4ddec-412d-424a-8251-7a33d9acc067   \n",
      "643424 2024-09-02 15:39:29  82d4ddec-412d-424a-8251-7a33d9acc067   \n",
      "643425 2024-09-02 15:39:29  82d4ddec-412d-424a-8251-7a33d9acc067   \n",
      "643426 2024-09-02 15:40:32  82d4ddec-412d-424a-8251-7a33d9acc067   \n",
      "643427 2024-09-02 15:40:32  82d4ddec-412d-424a-8251-7a33d9acc067   \n",
      "664428 2024-09-29 21:50:36  82d4ddec-412d-424a-8251-7a33d9acc067   \n",
      "685958 2024-09-02 15:39:29  82d4ddec-412d-424a-8251-7a33d9acc067   \n",
      "685959 2024-09-02 15:39:29  82d4ddec-412d-424a-8251-7a33d9acc067   \n",
      "685960 2024-09-02 15:39:29  82d4ddec-412d-424a-8251-7a33d9acc067   \n",
      "685961 2024-09-02 15:40:32  82d4ddec-412d-424a-8251-7a33d9acc067   \n",
      "685962 2024-09-02 15:40:32  82d4ddec-412d-424a-8251-7a33d9acc067   \n",
      "685963 2024-09-02 15:40:32  82d4ddec-412d-424a-8251-7a33d9acc067   \n",
      "685964 2024-09-02 15:40:32  82d4ddec-412d-424a-8251-7a33d9acc067   \n",
      "685965 2024-09-02 16:09:20  82d4ddec-412d-424a-8251-7a33d9acc067   \n",
      "685966 2024-09-02 16:09:20  82d4ddec-412d-424a-8251-7a33d9acc067   \n",
      "685967 2024-09-02 16:13:25  82d4ddec-412d-424a-8251-7a33d9acc067   \n",
      "685968 2024-09-02 16:13:25  82d4ddec-412d-424a-8251-7a33d9acc067   \n",
      "685969 2024-09-02 16:13:25  82d4ddec-412d-424a-8251-7a33d9acc067   \n",
      "685970 2024-09-02 16:13:57  82d4ddec-412d-424a-8251-7a33d9acc067   \n",
      "685971 2024-09-02 16:13:57  82d4ddec-412d-424a-8251-7a33d9acc067   \n",
      "685972 2024-09-02 16:23:45  82d4ddec-412d-424a-8251-7a33d9acc067   \n",
      "685973 2024-09-02 16:24:10  82d4ddec-412d-424a-8251-7a33d9acc067   \n",
      "685974 2024-09-02 16:24:10  82d4ddec-412d-424a-8251-7a33d9acc067   \n",
      "685975 2024-09-02 16:25:35  82d4ddec-412d-424a-8251-7a33d9acc067   \n",
      "685976 2024-09-02 16:25:35  82d4ddec-412d-424a-8251-7a33d9acc067   \n",
      "685977 2024-09-02 16:25:35  82d4ddec-412d-424a-8251-7a33d9acc067   \n",
      "814539 2024-09-02 16:58:01  82d4ddec-412d-424a-8251-7a33d9acc067   \n",
      "814540 2024-09-29 17:55:01  82d4ddec-412d-424a-8251-7a33d9acc067   \n",
      "\n",
      "                                    event_id part_type  part_price  \n",
      "71291   53882494-7964-431f-b71e-3bb5d251f309       NaN         NaN  \n",
      "71292   6d8fdd35-e919-424f-8a19-27b759f0d151       NaN         NaN  \n",
      "71293   7e7d491e-ffab-4577-9504-ec243ab42816       NaN         NaN  \n",
      "71294   434bd340-3b6b-4161-ab34-c289200ce1dd       NaN         NaN  \n",
      "105886  8a27fedd-6664-46fb-9f70-757ad0bb0f1e       NaN         NaN  \n",
      "105887  8a27fedd-6664-46fb-9f70-757ad0bb0f1e       NaN         NaN  \n",
      "105888  8a27fedd-6664-46fb-9f70-757ad0bb0f1e       NaN         NaN  \n",
      "105889  8a27fedd-6664-46fb-9f70-757ad0bb0f1e       NaN         NaN  \n",
      "260322  9821ac18-6c05-480a-a5e6-2d210548c874       NaN         NaN  \n",
      "643424  a8f4aede-e416-40fb-98db-35e8cd4c9996       NaN         NaN  \n",
      "643425  a8f4aede-e416-40fb-98db-35e8cd4c9996       NaN         NaN  \n",
      "643426  a8f4aede-e416-40fb-98db-35e8cd4c9996       NaN         NaN  \n",
      "643427  a8f4aede-e416-40fb-98db-35e8cd4c9996       NaN         NaN  \n",
      "664428  45e2bd70-be2e-474c-998d-0fb6741a7883       NaN         NaN  \n",
      "685958  88fb12c1-705e-4569-af8c-268b7beb17cf       NaN         NaN  \n",
      "685959  88fb12c1-705e-4569-af8c-268b7beb17cf       NaN         NaN  \n",
      "685960  14ce3276-1358-41e5-96c0-6576bf915616       NaN         NaN  \n",
      "685961  88fb12c1-705e-4569-af8c-268b7beb17cf       NaN         NaN  \n",
      "685962  88fb12c1-705e-4569-af8c-268b7beb17cf       NaN         NaN  \n",
      "685963  14ce3276-1358-41e5-96c0-6576bf915616       NaN         NaN  \n",
      "685964  a465b30c-ea30-4028-bb23-294ae6e4fbcf       NaN         NaN  \n",
      "685965  ea86efc5-529f-4d50-ab4b-1cadd580d39f       NaN         NaN  \n",
      "685966  ea86efc5-529f-4d50-ab4b-1cadd580d39f       NaN         NaN  \n",
      "685967  ea86efc5-529f-4d50-ab4b-1cadd580d39f       NaN         NaN  \n",
      "685968  ea86efc5-529f-4d50-ab4b-1cadd580d39f       NaN         NaN  \n",
      "685969  a248a94e-9684-4970-9508-6139d716434c       NaN         NaN  \n",
      "685970  ea86efc5-529f-4d50-ab4b-1cadd580d39f       NaN         NaN  \n",
      "685971  ea86efc5-529f-4d50-ab4b-1cadd580d39f       NaN         NaN  \n",
      "685972  c80801ce-aec7-47fb-8cce-6913cdf77e7d       NaN         NaN  \n",
      "685973  4ac54fc7-9b3f-4f3a-861e-5823c39da8e2       NaN         NaN  \n",
      "685974  4ac54fc7-9b3f-4f3a-861e-5823c39da8e2       NaN         NaN  \n",
      "685975  4ac54fc7-9b3f-4f3a-861e-5823c39da8e2       NaN         NaN  \n",
      "685976  4ac54fc7-9b3f-4f3a-861e-5823c39da8e2       NaN         NaN  \n",
      "685977  59360a5b-1659-48a4-b34f-5120724924e2       NaN         NaN  \n",
      "814539  4b9521bd-486b-4431-8016-507138c18da4       NaN         NaN  \n",
      "814540  e7b7da14-80f6-4798-8666-0a3faf84dbb7       NaN         NaN  \n",
      "                  marketplace_events_user_id  \\\n",
      "0       82d4ddec-412d-424a-8251-7a33d9acc067   \n",
      "1515    82d4ddec-412d-424a-8251-7a33d9acc067   \n",
      "30504   82d4ddec-412d-424a-8251-7a33d9acc067   \n",
      "30505   82d4ddec-412d-424a-8251-7a33d9acc067   \n",
      "40027   82d4ddec-412d-424a-8251-7a33d9acc067   \n",
      "125841  82d4ddec-412d-424a-8251-7a33d9acc067   \n",
      "125845  82d4ddec-412d-424a-8251-7a33d9acc067   \n",
      "\n",
      "               marketplace_events_session_id       session_start  \\\n",
      "0       7b9bd5db-a6ab-4fd4-aeb1-3b1f6249caf6 2024-09-02 16:58:01   \n",
      "1515    5e4fb313-6dfd-4fd7-92b8-0611aaa25677 2024-09-02 15:39:29   \n",
      "30504   b855fa1f-7de5-43fe-8e00-447f6b6f38cc 2024-09-02 15:39:29   \n",
      "30505   51362083-66a6-44f2-90f8-ff89357cc588 2024-09-02 15:39:29   \n",
      "40027   aea4cc67-29a1-4d39-aa73-a853b6d57e78 2024-09-29 17:55:01   \n",
      "125841  e12dbc67-f301-4413-8e2a-116ba7e093fa 2024-09-29 19:51:26   \n",
      "125845  579c4e01-618a-4cdf-8199-357977336e9c 2024-09-29 21:50:36   \n",
      "\n",
      "               session_end  session_duration  \n",
      "0      2024-09-29 17:55:01         2336220.0  \n",
      "1515   2024-09-02 16:25:35            2766.0  \n",
      "30504  2024-09-02 15:40:32              63.0  \n",
      "30505  2024-09-02 15:40:32              63.0  \n",
      "40027  2024-09-29 17:55:12              11.0  \n",
      "125841 2024-09-29 19:51:26               0.0  \n",
      "125845 2024-09-29 21:50:36               0.0  \n",
      "             marketplace_events_user_id  total_sessions  total_duration  \\\n",
      "0  82d4ddec-412d-424a-8251-7a33d9acc067               7       2339123.0   \n",
      "\n",
      "    avg_duration  \n",
      "0  334160.428571  \n"
     ]
    }
   ],
   "source": [
    "# Ensure the 'event_time' column is in datetime format\n",
    "df['event_time'] = pd.to_datetime(df['event_time'])\n",
    "\n",
    "session_durations = df.groupby(['marketplace_events_user_id', 'marketplace_events_session_id'])['event_time'].agg(\n",
    "    session_start='min',\n",
    "    session_end='max'\n",
    ")\n",
    "session_durations['session_duration'] = (session_durations['session_end'] - session_durations['session_start']).dt.total_seconds()\n",
    "\n",
    "session_durations = session_durations.reset_index()\n",
    "\n",
    "user_session_summary = session_durations.groupby('marketplace_events_user_id').agg(\n",
    "    total_sessions=('marketplace_events_session_id', 'count'),  # Count of unique sessions per user\n",
    "    total_duration=('session_duration', 'sum'),                 # Total session duration per user\n",
    "    avg_duration=('session_duration', 'mean')                   # Average session duration per user\n",
    ").reset_index()\n",
    "\n",
    "session_durations = session_durations.sort_values(by='session_duration', ascending=False).reset_index(drop=True)\n",
    "user_session_summary = user_session_summary.sort_values(by='total_duration', ascending=False).reset_index(drop=True)\n",
    "\n",
    "print(\"Detailed Session Durations (each unique session):\")\n",
    "print(session_durations.head())\n",
    "\n",
    "print(\"\\nUser Session Summary (grouped by user):\")\n",
    "print(user_session_summary.head())\n",
    "\n",
    "\n",
    "print(df[df['marketplace_events_user_id'] == '82d4ddec-412d-424a-8251-7a33d9acc067'])\n",
    "user_sessions = session_durations[session_durations['marketplace_events_user_id'] == '82d4ddec-412d-424a-8251-7a33d9acc067']\n",
    "print(user_sessions)\n",
    "user_summary = user_session_summary[user_session_summary['marketplace_events_user_id'] == '82d4ddec-412d-424a-8251-7a33d9acc067']\n",
    "print(user_summary)"
   ]
  },
  {
   "cell_type": "markdown",
   "metadata": {},
   "source": [
    "### Generating the plot for the stocks:"
   ]
  },
  {
   "cell_type": "code",
   "execution_count": 11,
   "metadata": {},
   "outputs": [
    {
     "name": "stdout",
     "output_type": "stream",
     "text": [
      "   event_date_only  sold_items\n",
      "0       2024-09-02          80\n",
      "1       2024-09-03          64\n",
      "2       2024-09-04          59\n",
      "3       2024-09-05          82\n",
      "4       2024-09-06          77\n",
      "5       2024-09-07          48\n",
      "6       2024-09-08          49\n",
      "7       2024-09-09          68\n",
      "8       2024-09-10          77\n",
      "9       2024-09-11          59\n",
      "10      2024-09-12          70\n",
      "11      2024-09-13          51\n",
      "12      2024-09-14          11\n",
      "13      2024-09-15           1\n",
      "14      2024-09-16         150\n",
      "15      2024-09-17          77\n",
      "16      2024-09-18          48\n",
      "17      2024-09-19          53\n",
      "18      2024-09-20          74\n",
      "19      2024-09-21          38\n",
      "20      2024-09-22          50\n",
      "21      2024-09-23          82\n",
      "22      2024-09-24          81\n",
      "23      2024-09-25          80\n",
      "24      2024-09-26          77\n",
      "25      2024-09-27          63\n",
      "26      2024-09-28          34\n",
      "27      2024-09-29          51\n"
     ]
    },
    {
     "data": {
      "image/png": "[encoded data removed]",
      "text/plain": [
       "<Figure size 1000x300 with 1 Axes>"
      ]
     },
     "metadata": {},
     "output_type": "display_data"
    }
   ],
   "source": [
    "grouped_data = stock_planning_df.groupby('event_date_only')['part_type'].count().reset_index()\n",
    "grouped_data.rename(columns={'part_type': 'sold_items'}, inplace=True)\n",
    "print(grouped_data)\n",
    "plt.figure(figsize=(10, 3))\n",
    "plt.scatter(grouped_data['event_date_only'], grouped_data['sold_items'], color='red', alpha=0.7)\n",
    "plt.title('Sold part_type items each day')\n",
    "\n",
    "plt.savefig('Sold part_type items in September.png')\n",
    "plt.show()\n",
    "#print(grouped_data)\n",
    "#print(grouped_data['sold_items'].sum())"
   ]
  },
  {
   "cell_type": "markdown",
   "metadata": {},
   "source": [
    "### Best interest expressing categories (added to the cart)"
   ]
  },
  {
   "cell_type": "code",
   "execution_count": 12,
   "metadata": {},
   "outputs": [
    {
     "name": "stdout",
     "output_type": "stream",
     "text": [
      "     marketplace_events_domain marketplace_events_page_type  \\\n",
      "546                   brand.name             Checkout success   \n",
      "547                   brand.name             Checkout success   \n",
      "948                   brand.name             Checkout success   \n",
      "949                   brand.name             Checkout success   \n",
      "1160                  brand.name             Checkout success   \n",
      "\n",
      "             marketplace_events_session_id added_to_cart          event_time  \\\n",
      "546   99f501ff-c54e-42f4-8379-5ffba02ebdc3           NaN 2024-09-06 10:36:16   \n",
      "547   99f501ff-c54e-42f4-8379-5ffba02ebdc3           NaN 2024-09-06 10:36:16   \n",
      "948   9a2129c0-8153-4c74-b85e-cff28db3048b           NaN 2024-09-24 11:34:59   \n",
      "949   9a2129c0-8153-4c74-b85e-cff28db3048b           NaN 2024-09-24 11:34:59   \n",
      "1160  9a42fa59-b040-4fb7-b6d5-975657ea27a1           NaN 2024-09-24 12:31:59   \n",
      "\n",
      "                marketplace_events_user_id  \\\n",
      "546   2d22ab4f-4870-4e99-a253-f4b74945ac29   \n",
      "547   2d22ab4f-4870-4e99-a253-f4b74945ac29   \n",
      "948   ded5f09c-1b25-4fbd-b70a-f9c6f14f7f25   \n",
      "949   ded5f09c-1b25-4fbd-b70a-f9c6f14f7f25   \n",
      "1160  77c1ee15-976c-4475-9108-b86daf775569   \n",
      "\n",
      "                                  event_id part_type  part_price  \n",
      "546   9ae38bf4-6bc0-41ce-818f-272bc6e96b9a       NaN         NaN  \n",
      "547   9ae38bf4-6bc0-41ce-818f-272bc6e96b9a       NaN         NaN  \n",
      "948   543f02ec-09bd-4f0e-b13f-4483ea2e4573       NaN         NaN  \n",
      "949   543f02ec-09bd-4f0e-b13f-4483ea2e4573       NaN         NaN  \n",
      "1160  a4934ebe-45d2-443b-abab-65852123cad7       NaN         NaN  \n",
      "Total of all users who purchased products: 1546\n",
      "Total of all added part_type items to the cart: 3641\n",
      "Total of all cells marked as added to the cart: 4704\n",
      "part_type\n",
      "Devices/switches/electronic system            685\n",
      "Cabin/interior                                505\n",
      "Lighting system                               301\n",
      "Door                                          274\n",
      "Exterior front body parts                     233\n",
      "Engine                                        230\n",
      "Fuel mixture system                           216\n",
      "Gearbox/clutch/transmission                   167\n",
      "Brake system                                  152\n",
      "Front axle                                    143\n",
      "Air conditioning-heating system/radiators     141\n",
      "Exterior rear body parts                      124\n",
      "Gas exhaust system                            119\n",
      "Wheels/tires/caps                              84\n",
      "Body/body parts/hook                           81\n",
      "Rear axle                                      71\n",
      "Headlight/headlamp washing/cleaning system     50\n",
      "Glass                                          42\n",
      "Other parts                                    23\n",
      "Name: count, dtype: int64\n"
     ]
    }
   ],
   "source": [
    "part_categories = df[df['part_type'].notna() ]\n",
    "added_to_cart = df[df['added_to_cart'].notna()]\n",
    "purchased_success =  df[df['marketplace_events_page_type'] == 'Checkout success']\n",
    "purchased_unnique = purchased_success['marketplace_events_user_id'].unique()\n",
    "print(purchased_success.head())\n",
    "print(\"Total of all users who purchased products: \" + str(len(purchased_unnique)))\n",
    "print(\"Total of all added part_type items to the cart: \" + str(len(part_categories)))\n",
    "print(\"Total of all cells marked as added to the cart: \" + str(len(added_to_cart)))\n",
    "categories_value_counts = part_categories['part_type'].value_counts()\n",
    "categories_value_counts_df = categories_value_counts.reset_index()\n",
    "categories_value_counts_df.columns = ['part_type', 'count']\n",
    "print(categories_value_counts)\n",
    "#print(categories_value_counts_df)\n",
    "\n",
    "\n",
    "#added_to_cart_value_counts = added_to_cart['part_type'].value_counts() <-- same as categories_cvalue_counts\n",
    "#print(added_to_cart_value_counts) <-- same as categories_cvalue_counts\n",
    "\n",
    "#print(len(purchased_unnique))\n",
    "#print(added_to_cart.head())\n",
    "#print(part_categories.head())\n",
    "#__________________________\n",
    "#print('Category added to the cart'+str(len(part_categories[part_categories['part_type'] == 'Door'])))\n",
    "#print(len(part_categories[part_categories['part_type'] == 'Engine']))\n",
    "#print(len(part_categories[part_categories['part_type'] == 'Devices/switches/electronic system']))\n",
    "#print(len(part_categories[part_categories['part_type'] == 'Front axle']))\n",
    "#print(len(part_categories[part_categories['part_type'] == 'Glass']))\n",
    "#print(len(part_categories[part_categories['part_type'] == 'Cabin/interior']))\n",
    "#print(len(part_categories[part_categories['part_type'] == 'Cabin/interior']))\n",
    "#print(len(part_categories[part_categories['part_type'] == 'Cabin/interior']))\n",
    "#print(len(part_categories[part_categories['part_type'] == 'Cabin/interior']))\n",
    "#print(part_categories.head())"
   ]
  },
  {
   "cell_type": "code",
   "execution_count": 13,
   "metadata": {},
   "outputs": [
    {
     "name": "stdout",
     "output_type": "stream",
     "text": [
      "2257\n",
      "1384\n"
     ]
    }
   ],
   "source": [
    "all_added_to_the_cart_products = len(part_categories['marketplace_events_user_id'].unique())\n",
    "print(all_added_to_the_cart_products)\n",
    "products_added_as_add_on = len(part_categories) - len(part_categories['marketplace_events_user_id'].unique())\n",
    "print(products_added_as_add_on)\n",
    "#Diff = all_sold_products - products_as_add_on\n",
    "#print(Diff)\n",
    "#pie = [Diff, products_as_add_on]\n",
    "#names= [\"Sales part as unique products\", \"Sales part as the Add-ons\"]\n",
    "#plt.pie(pie, labels=names, autopct='%0.1f%%')\n",
    "#plt.title(\"Distribution of the bought amount on brand.name\")\n",
    "#plt.savefig('Distribution of the bought amount on brand.name.png')"
   ]
  },
  {
   "cell_type": "markdown",
   "metadata": {},
   "source": [
    "### Filtering all users who has Checkout success and their product types"
   ]
  },
  {
   "cell_type": "code",
   "execution_count": 14,
   "metadata": {},
   "outputs": [
    {
     "name": "stdout",
     "output_type": "stream",
     "text": [
      "             marketplace_events_user_id  \\\n",
      "0  16488e6c-265c-4d5f-a620-d93c56d72573   \n",
      "1  168d117d-eb06-4d4a-8152-beb59bdf1b09   \n",
      "2  16aeadd9-fad0-484b-a736-0b5e4899a4e5   \n",
      "3  16deda24-44c2-4d3b-94db-47096d004f89   \n",
      "4  16e4e4a0-ea63-4014-97ae-3e10a4378029   \n",
      "\n",
      "                                          part_types  \n",
      "0          [Fuel mixture system, Gas exhaust system]  \n",
      "1                      [Gearbox/clutch/transmission]  \n",
      "2  [Fuel mixture system, Gearbox/clutch/transmiss...  \n",
      "3                               [Gas exhaust system]  \n",
      "4                                                 []  \n",
      "1546\n"
     ]
    }
   ],
   "source": [
    "checkout_success_users = df.loc[df['marketplace_events_page_type'] == 'Checkout success', 'marketplace_events_user_id'].unique()\n",
    "relevant_df_rows = df[df['marketplace_events_user_id'].isin(checkout_success_users)]\n",
    "relevant_df_rows = relevant_df_rows.drop_duplicates(subset=['marketplace_events_user_id', 'part_type'])\n",
    "grouped = relevant_df_rows.groupby('marketplace_events_user_id')['part_type'].agg(list)#.unique() might also be used as no one \n",
    "                                                                                       #added the same type product twice - checked.\n",
    "new_df_sold = grouped.reset_index()\n",
    "new_df_sold.rename(columns={'part_type': 'part_types'}, inplace=True)\n",
    "new_df_sold['part_types'] = new_df_sold['part_types'].apply(list)\n",
    "new_df_sold['part_types'] = new_df_sold['part_types'].apply(lambda x: [item for item in x if not pd.isna(item)])\n",
    "print(new_df_sold.head())\n",
    "#print(len(new_df_sold['marketplace_events_user_id'].unique()))\n",
    "\n",
    "print(len(checkout_success_users))\n",
    "# Step 1: Filter for unique user IDs with \"Checkout success\" in marketplace_events_page_type\n",
    "# Step 2: Filter the DataFrame for rows belonging to these user IDs\n",
    "# Step 3: Group by user ID and extract unique product_type for each user\n",
    "# Step 4: Create a new DataFrame with the linked user IDs and product types\n",
    "# Step 5: Convert the product types from NumPy array to list for better readability (optional)\n",
    "#print(df[df.marketplace_events_user_id == '16aeadd9-fad0-484b-a736-0b5e4899a4e5'])\n",
    "\n",
    "#print(new_df_sold['part_types'].head())\n",
    "#print(new_df_sold['part_types'].apply(type).unique())"
   ]
  },
  {
   "cell_type": "markdown",
   "metadata": {},
   "source": [
    "### Evaluating the number of all sold product_types and different product_types numbers"
   ]
  },
  {
   "cell_type": "code",
   "execution_count": 15,
   "metadata": {},
   "outputs": [
    {
     "name": "stdout",
     "output_type": "stream",
     "text": [
      "Total amount of all sold part_type items: 1754\n",
      "Number of each unique sold part_type item:\n",
      "                                     part_type  count\n",
      "6           Devices/switches/electronic system    348\n",
      "5                               Cabin/interior    222\n",
      "12                             Lighting system    145\n",
      "0                          Fuel mixture system    123\n",
      "3                                       Engine    117\n",
      "8                                         Door    114\n",
      "9                    Exterior front body parts     89\n",
      "4                                 Brake system     87\n",
      "2                  Gearbox/clutch/transmission     84\n",
      "7                                   Front axle     77\n",
      "1                           Gas exhaust system     70\n",
      "15   Air conditioning-heating system/radiators     70\n",
      "16                    Exterior rear body parts     60\n",
      "14                                   Rear axle     36\n",
      "18                        Body/body parts/hook     32\n",
      "10  Headlight/headlamp washing/cleaning system     31\n",
      "11                                       Glass     20\n",
      "13                           Wheels/tires/caps     20\n",
      "17                                 Other parts      9\n"
     ]
    },
    {
     "name": "stderr",
     "output_type": "stream",
     "text": [
      "/var/folders/r3/y6x6b2nx2837gbftb_th9z940000gn/T/ipykernel_83574/3911196249.py:18: UserWarning: set_ticklabels() should only be used with a fixed number of ticks, i.e. after set_ticks() or using a FixedLocator.\n",
      "  ax.set_xticklabels(sold_item_counts_df['part_type'], rotation=90)\n"
     ]
    },
    {
     "data": {
      "image/png": "[encoded data removed]",
      "text/plain": [
       "<Figure size 640x480 with 1 Axes>"
      ]
     },
     "metadata": {},
     "output_type": "display_data"
    }
   ],
   "source": [
    "from collections import Counter\n",
    "\n",
    "all_items = [item for sublist in new_df_sold['part_types'] for item in sublist]\n",
    "item_counts = Counter(all_items)\n",
    "total_count = sum(item_counts.values())\n",
    "#print(\"Counts of each unique sold item:\", item_counts)\n",
    "print(\"Total amount of all sold part_type items:\", total_count)\n",
    "\n",
    "sold_item_counts_df = pd.DataFrame.from_dict(item_counts, orient='index', columns=['count']).reset_index()\n",
    "sold_item_counts_df.rename(columns={'index': 'part_type'}, inplace=True)\n",
    "sold_item_counts_df = sold_item_counts_df.sort_values(by='count', ascending=False)\n",
    "item_counts_df = sold_item_counts_df.reset_index(drop=True)\n",
    "print(\"Number of each unique sold part_type item:\")\n",
    "print(sold_item_counts_df)\n",
    "\n",
    "ax = plt.subplot()\n",
    "ax.bar(sold_item_counts_df['part_type'], sold_item_counts_df['count'])\n",
    "ax.set_xticklabels(sold_item_counts_df['part_type'], rotation=90)\n",
    "plt.title('Sold items in different categories')\n",
    "plt.ylabel('No. of sold items')\n",
    "plt.show\n",
    "\n",
    "plt.savefig('Sold items in diff cat.png')\n"
   ]
  },
  {
   "cell_type": "markdown",
   "metadata": {},
   "source": [
    "### ??? Vizualization for expressed interest and sold different par_type items. <--> JEIGU viskas susivelia vėliau nuo to, ką pateikei - IŠTRINK šitą "
   ]
  },
  {
   "cell_type": "code",
   "execution_count": 17,
   "metadata": {},
   "outputs": [
    {
     "name": "stdout",
     "output_type": "stream",
     "text": [
      "<class 'pandas.core.series.Series'>\n",
      "part_type\n",
      "Devices/switches/electronic system            685\n",
      "Cabin/interior                                505\n",
      "Lighting system                               301\n",
      "Door                                          274\n",
      "Exterior front body parts                     233\n",
      "Engine                                        230\n",
      "Fuel mixture system                           216\n",
      "Gearbox/clutch/transmission                   167\n",
      "Brake system                                  152\n",
      "Front axle                                    143\n",
      "Air conditioning-heating system/radiators     141\n",
      "Exterior rear body parts                      124\n",
      "Gas exhaust system                            119\n",
      "Wheels/tires/caps                              84\n",
      "Body/body parts/hook                           81\n",
      "Rear axle                                      71\n",
      "Headlight/headlamp washing/cleaning system     50\n",
      "Glass                                          42\n",
      "Other parts                                    23\n",
      "Name: count, dtype: int64\n",
      "                                     part_type  count\n",
      "6           Devices/switches/electronic system    348\n",
      "5                               Cabin/interior    222\n",
      "12                             Lighting system    145\n",
      "0                          Fuel mixture system    123\n",
      "3                                       Engine    117\n",
      "8                                         Door    114\n",
      "9                    Exterior front body parts     89\n",
      "4                                 Brake system     87\n",
      "2                  Gearbox/clutch/transmission     84\n",
      "7                                   Front axle     77\n",
      "1                           Gas exhaust system     70\n",
      "15   Air conditioning-heating system/radiators     70\n",
      "16                    Exterior rear body parts     60\n",
      "14                                   Rear axle     36\n",
      "18                        Body/body parts/hook     32\n",
      "10  Headlight/headlamp washing/cleaning system     31\n",
      "11                                       Glass     20\n",
      "13                           Wheels/tires/caps     20\n",
      "17                                 Other parts      9\n"
     ]
    },
    {
     "data": {
      "image/png": "[encoded data removed]",
      "text/plain": [
       "<Figure size 1200x1000 with 1 Axes>"
      ]
     },
     "metadata": {},
     "output_type": "display_data"
    }
   ],
   "source": [
    "#categories_value_counts = categories_value_counts.reset_index()(drop=True)\n",
    "#categories_value_counts.columns=['part_type', 'count']\n",
    "#sold_item_counts_df = sold_item_counts_df.reset_index()\n",
    "print(type(categories_value_counts))\n",
    "\n",
    "#categories_value_counts = categories_value_counts.drop(['level_0', 'index'], axis=1)  <-- was required since I didn't include (drop=True) when converting series into a dataframe.\n",
    "categories_value_counts.columns = ['part_type', 'count']\n",
    "\n",
    "print(categories_value_counts)\n",
    "print(sold_item_counts_df)\n",
    "\n",
    "n = 1 # This is the first dataset (out of 2)\n",
    "t = 2 # Number of datasets\n",
    "d = 19 # Number of sets of bars\n",
    "w = 0.8 # Width of each bar\n",
    "x_values1 = [t*element + w*n for element\n",
    "             in range(d)]\n",
    "\n",
    "n = 2 # This is the second dataset (out of 2)\n",
    "t = 2 # Number of datasets\n",
    "d = 19 # Number of sets of bars\n",
    "w = 0.8 # Width of each bar\n",
    "x_values2 = [t*element + w*n for element\n",
    "             in range(d)]\n",
    "\n",
    "plt.figure(figsize=(12,10))\n",
    "\n",
    "#ax = plt.subplot()\n",
    "#plt.bar(x_values1, categories_value_counts['count'])\n",
    "#ax.set_xticks(x_values1, minor=False)\n",
    "#ax.set_xticklabels(categories_value_counts['part_type'], rotation=90, minor=False)\n",
    "#ax.tick_params(labelsize=12)\n",
    "\n",
    "ax = plt.subplot()\n",
    "plt.bar(x_values2, sold_item_counts_df['count'])\n",
    "ax.set_xticks(x_values2, minor=True)\n",
    "ax.set_xticklabels(sold_item_counts_df['part_type'], rotation = 90, minor=True)\n",
    "#ax.tick_params(labelsize=8)\n",
    "\n",
    "plt.tight_layout(pad=3)  #makes xticklabels to fit into the saved picture.\n",
    "plt.ylabel('No. of items')\n",
    "plt.title('Comparance of added to cart/sold diff. type items')\n",
    "plt.legend(['Added to the cart', 'Sold'], loc=7) #loc function makes legend on the right side in the middle.\n",
    "\n",
    "import os #Makes the directory where to save the file, since used plt.savefig('Comparance of added to cart/sold diff. type items.png') didn't find the directory. \n",
    "file_path = '... sold diff. type items.png'\n",
    "os.makedirs(os.path.dirname(file_path), exist_ok=True)\n",
    "plt.savefig(file_path)\n",
    "\n",
    "#plt.savefig('Comparance of added to cart/sold diff. type items.png')\n",
    "plt.show()\n",
    "\n",
    "\n"
   ]
  },
  {
   "cell_type": "markdown",
   "metadata": {},
   "source": [
    "##### Splitting part_types into separate columns in new_df_sold and attaching part_prices to the unique marketplace_user_ids and their part_type items\n",
    "\n"
   ]
  },
  {
   "cell_type": "code",
   "execution_count": null,
   "metadata": {},
   "outputs": [
    {
     "name": "stdout",
     "output_type": "stream",
     "text": [
      "             marketplace_events_user_id  \\\n",
      "0  16488e6c-265c-4d5f-a620-d93c56d72573   \n",
      "1  168d117d-eb06-4d4a-8152-beb59bdf1b09   \n",
      "2  16aeadd9-fad0-484b-a736-0b5e4899a4e5   \n",
      "3  16deda24-44c2-4d3b-94db-47096d004f89   \n",
      "4  16e4e4a0-ea63-4014-97ae-3e10a4378029   \n",
      "\n",
      "                                          part_types  \\\n",
      "0          [Fuel mixture system, Gas exhaust system]   \n",
      "1                      [Gearbox/clutch/transmission]   \n",
      "2  [Fuel mixture system, Gearbox/clutch/transmiss...   \n",
      "3                               [Gas exhaust system]   \n",
      "4                                                 []   \n",
      "\n",
      "                   part_type_1                  part_type_2 part_type_3  \\\n",
      "0          Fuel mixture system           Gas exhaust system         NaN   \n",
      "1  Gearbox/clutch/transmission                          NaN         NaN   \n",
      "2          Fuel mixture system  Gearbox/clutch/transmission      Engine   \n",
      "3           Gas exhaust system                          NaN         NaN   \n",
      "4                          NaN                          NaN         NaN   \n",
      "\n",
      "  part_type_4 part_type_5 part_type_6 part_type_7 part_type_8 part_type_9  \\\n",
      "0         NaN         NaN         NaN         NaN         NaN         NaN   \n",
      "1         NaN         NaN         NaN         NaN         NaN         NaN   \n",
      "2         NaN         NaN         NaN         NaN         NaN         NaN   \n",
      "3         NaN         NaN         NaN         NaN         NaN         NaN   \n",
      "4         NaN         NaN         NaN         NaN         NaN         NaN   \n",
      "\n",
      "  part_type_10 part_type_11 part_type_12 part_type_13  \n",
      "0          NaN          NaN          NaN          NaN  \n",
      "1          NaN          NaN          NaN          NaN  \n",
      "2          NaN          NaN          NaN          NaN  \n",
      "3          NaN          NaN          NaN          NaN  \n",
      "4          NaN          NaN          NaN          NaN  \n"
     ]
    }
   ],
   "source": [
    "# Splitting part_types into separate columns on new_df_sold\n",
    "\n",
    "# Split the 'part_types' column into separate columns\n",
    "split_parts = new_df_sold['part_types'].apply(pd.Series)\n",
    "\n",
    "# Rename columns to indicate part types\n",
    "split_parts.columns = [f'part_type_{i+1}' for i in range(split_parts.shape[1])]\n",
    "\n",
    "# Drop any existing conflicting columns in `new_df`\n",
    "new_df_sold = new_df_sold.drop(columns=[col for col in new_df_sold.columns if col.startswith(\"part_type_\")], errors='ignore')\n",
    "\n",
    "# Concatenate the new columns to 'new_df'\n",
    "new_df_sold = pd.concat([new_df_sold, split_parts], axis=1)\n",
    "\n",
    "print(new_df_sold.head())\n",
    "#assert new_df_sold.columns.is_unique, \"Duplicate column names exist!\""
   ]
  },
  {
   "cell_type": "code",
   "execution_count": null,
   "metadata": {},
   "outputs": [
    {
     "name": "stdout",
     "output_type": "stream",
     "text": [
      "              marketplace_events_user_id part_type  part_price\n",
      "0   a672268e-bac1-42c8-bd1c-069cbbaf3211       NaN         NaN\n",
      "4   4f9ab9e0-4375-4221-b0b3-c03ad83249b5       NaN         NaN\n",
      "5   1c272080-f3b3-48d4-bced-81837b810c45       NaN         NaN\n",
      "47  a2ff7e6b-40ee-4c83-87a3-acbf20001833       NaN         NaN\n",
      "48  9b57bb2c-fe63-4153-b4da-e3b76c74ff75       NaN         NaN\n"
     ]
    }
   ],
   "source": [
    "#Preparing price_lookup_full table to attach prices to part_type items in new_df_sold:\n",
    "price_lookup = df[['marketplace_events_user_id', 'part_type', 'part_price']].drop_duplicates()\n",
    "price_lookup_full = price_lookup[price_lookup['part_price'].notna()]\n",
    "print(price_lookup.head())"
   ]
  },
  {
   "cell_type": "code",
   "execution_count": 17,
   "metadata": {},
   "outputs": [],
   "source": [
    "# Mapping prices for each part_type to new_df_sold\n",
    "\n",
    "for col in split_parts.columns:\n",
    "    # Map the prices using a merge operation\n",
    "    new_df_sold = new_df_sold.merge(\n",
    "        price_lookup,\n",
    "        how='left',\n",
    "        left_on=['marketplace_events_user_id', col],\n",
    "        right_on=['marketplace_events_user_id', 'part_type'],\n",
    "    )\n",
    "    \n",
    "    # Rename the new 'part_price' column to match the part type\n",
    "    new_df_sold.rename(columns={'part_price': f'{col}_price'}, inplace=True)\n",
    "    \n",
    "    # Drop the unnecessary 'part_type' column from the merge\n",
    "    new_df_sold.drop(columns=['part_type'], inplace=True)\n",
    "\n",
    "    #Droping rows with generated NaN values \n",
    "    #new_df_sold = new_df_sold[new_df_sold ['part_type']]"
   ]
  },
  {
   "cell_type": "code",
   "execution_count": null,
   "metadata": {},
   "outputs": [],
   "source": [
    "#print(new_df_sold['part_type_1'].head(10), new_df_sold['part_type_2'].head(10), new_df_sold['part_type_1_price'].head(10))"
   ]
  },
  {
   "cell_type": "markdown",
   "metadata": {},
   "source": [
    "### Potential from ADDED and generated from SOLD Revenues"
   ]
  },
  {
   "cell_type": "code",
   "execution_count": null,
   "metadata": {},
   "outputs": [
    {
     "name": "stdout",
     "output_type": "stream",
     "text": [
      "                marketplace_events_user_id  \\\n",
      "1541  fe6c2f62-1462-4853-8f4b-420b68b4fb57   \n",
      "1542  fec43dd6-581b-4d9e-b8e0-650dc53c8881   \n",
      "1543  ff848bfb-d3f6-44d3-937c-7d4b1a430415   \n",
      "1544  ffdf97c4-043e-4e5f-a113-3e3c3d68d477   \n",
      "1545  fff9fd0b-fa6d-449c-916e-e1ebdd6a6ad9   \n",
      "\n",
      "                                             part_price  \n",
      "1541  [0.0, 0.0, 0.0, 0.0, 0.0, 0.0, 0.0, 0.0, 0.0, ...  \n",
      "1542    [0.0, 0.0, 31.12, 0.0, 0.0, 0.0, 0.0, 0.0, 0.0]  \n",
      "1543  [0.0, 0.0, 0.0, 0.0, 0.0, 0.0, 0.0, 0.0, 0.0, ...  \n",
      "1544  [0.0, 0.0, 0.0, 0.0, 0.0, 0.0, 0.0, 0.0, 0.0, ...  \n",
      "1545  [0.0, 0.0, 0.0, 0.0, 0.0, 0.0, 0.0, 0.0, 0.0, ...  \n",
      "                marketplace_events_user_id  \\\n",
      "0     16488e6c-265c-4d5f-a620-d93c56d72573   \n",
      "1     168d117d-eb06-4d4a-8152-beb59bdf1b09   \n",
      "2     16aeadd9-fad0-484b-a736-0b5e4899a4e5   \n",
      "3     16deda24-44c2-4d3b-94db-47096d004f89   \n",
      "4     16e4e4a0-ea63-4014-97ae-3e10a4378029   \n",
      "...                                    ...   \n",
      "1541  fe6c2f62-1462-4853-8f4b-420b68b4fb57   \n",
      "1542  fec43dd6-581b-4d9e-b8e0-650dc53c8881   \n",
      "1543  ff848bfb-d3f6-44d3-937c-7d4b1a430415   \n",
      "1544  ffdf97c4-043e-4e5f-a113-3e3c3d68d477   \n",
      "1545  fff9fd0b-fa6d-449c-916e-e1ebdd6a6ad9   \n",
      "\n",
      "                                             part_price  \n",
      "0     [0.0, 0.0, 0.0, 0.0, 0.0, 0.0, 0.0, 0.0, 0.0, ...  \n",
      "1     [0.0, 0.0, 0.0, 0.0, 0.0, 0.0, 0.0, 0.0, 0.0, ...  \n",
      "2     [0.0, 0.0, 0.0, 0.0, 0.0, 0.0, 0.0, 0.0, 0.0, ...  \n",
      "3     [0.0, 0.0, 0.0, 0.0, 0.0, 0.0, 0.0, 0.0, 0.0, ...  \n",
      "4     [0.0, 0.0, 0.0, 0.0, 0.0, 0.0, 0.0, 0.0, 0.0, ...  \n",
      "...                                                 ...  \n",
      "1541  [0.0, 0.0, 0.0, 0.0, 0.0, 0.0, 0.0, 0.0, 0.0, ...  \n",
      "1542    [0.0, 0.0, 31.12, 0.0, 0.0, 0.0, 0.0, 0.0, 0.0]  \n",
      "1543  [0.0, 0.0, 0.0, 0.0, 0.0, 0.0, 0.0, 0.0, 0.0, ...  \n",
      "1544  [0.0, 0.0, 0.0, 0.0, 0.0, 0.0, 0.0, 0.0, 0.0, ...  \n",
      "1545  [0.0, 0.0, 0.0, 0.0, 0.0, 0.0, 0.0, 0.0, 0.0, ...  \n",
      "\n",
      "[1546 rows x 2 columns]\n",
      "                marketplace_events_user_id  part_price\n",
      "930   a1a716a5-a096-44d6-b000-2a06693227a5    12337.11\n",
      "1109  bbebfef9-c036-46d6-9f5b-6d64b4432591     6496.73\n",
      "78    24884354-ede4-4094-9d2f-8dd88c20b5c7     4978.50\n",
      "1219  ccb92d01-7331-42fc-a1bf-58434f2c35e3     4910.48\n",
      "768   8a64693e-eace-4aa5-acf6-991ecfd78db7     4259.96\n",
      "Generated Revenue in total: 272266.18000000005\n",
      "Potential Revenue of all added to the cart items: 552020.3800000002\n"
     ]
    }
   ],
   "source": [
    "checkout_success_users = df.loc[df['marketplace_events_page_type'] == 'Checkout success', 'marketplace_events_user_id']\n",
    "relevant_df_rows_rev = df[df['marketplace_events_user_id'].isin(checkout_success_users)] # Getting the rows with all columns from df. where user id reached out \"Checkout success\".\n",
    "                                                                                         # This is only the view from the original dataframe.\n",
    "relevant_df_rows_rev = relevant_df_rows_rev.copy() # Making a separate dataframe from the original and working, modifying it later on a copy and not on the original data.\n",
    "#print(relevant_df_rows.head())\n",
    "relevant_df_rows_rev['part_price'] = relevant_df_rows_rev['part_price'].fillna(0) # Filling all the NaN values to the \"part_price\" column. \n",
    "grouped_part_price = relevant_df_rows_rev.groupby('marketplace_events_user_id')['part_price'].agg(list) # Gathering all prices to one place for each user_id which was grouped.\n",
    "#print(grouped_part_price.head())\n",
    "prices = grouped_part_price.reset_index() # Resseting - creating indexes - making a new dataframe to be working with.\n",
    "print(prices[1541:1546])\n",
    "new_df_prices = prices.fillna({'part_price': 0}) # This line is not necessary since I filled the NaN vlues with 0 above. Just forgot to delete it. \n",
    "print(new_df_prices)\n",
    "# Revenue from sold items:\n",
    "new_df_prices['part_price'] = new_df_prices['part_price'].apply(lambda x: sum(x) if isinstance(x, (list, np.ndarray)) else x) # Sums up all the values horizontlly \n",
    "                                                                                                                              # in lists which are on every column.\n",
    "new_df_prices = new_df_prices.sort_values(by='part_price', ascending=False)\n",
    "print(new_df_prices.head())\n",
    "total_part_price = new_df_prices['part_price'].sum() #Sums up the whole column values vertically.\n",
    "print(\"Generated Revenue in total: \" + str(total_part_price))\n",
    "\n",
    "# Potential revenue from added to the cart items - 2nd way to check:\n",
    "df['part_price'] = df['part_price'].fillna(0)\n",
    "total_added_to_cart_price = df['part_price'].sum()\n",
    "print(\"Potential Revenue of all added to the cart items: \" + str(total_added_to_cart_price))"
   ]
  },
  {
   "cell_type": "markdown",
   "metadata": {},
   "source": [
    "## ADDED TO THE CART Part_type items statistics"
   ]
  },
  {
   "cell_type": "markdown",
   "metadata": {},
   "source": [
    "### ADDED part_type items statistics"
   ]
  },
  {
   "cell_type": "code",
   "execution_count": 96,
   "metadata": {},
   "outputs": [
    {
     "name": "stdout",
     "output_type": "stream",
     "text": [
      "                                     part_type  min_price  max_price  \\\n",
      "0    Air conditioning-heating system/radiators       5.00     900.00   \n",
      "1                         Body/body parts/hook       5.17    1722.72   \n",
      "2                                 Brake system       3.18     381.63   \n",
      "3                               Cabin/interior       1.91    1647.05   \n",
      "4           Devices/switches/electronic system       1.98    3000.00   \n",
      "5                                         Door       2.99    1073.32   \n",
      "6                                       Engine       4.00    7320.50   \n",
      "7                    Exterior front body parts       4.12    3183.21   \n",
      "8                     Exterior rear body parts       5.00     607.44   \n",
      "9                                   Front axle       1.61    1122.35   \n",
      "10                         Fuel mixture system       0.00    1992.00   \n",
      "11                          Gas exhaust system       0.00     826.44   \n",
      "12                 Gearbox/clutch/transmission       7.00    2650.00   \n",
      "13                                       Glass       6.00     409.41   \n",
      "14  Headlight/headlamp washing/cleaning system       5.00     149.36   \n",
      "15                             Lighting system       4.00     918.02   \n",
      "16                                 Other parts       3.10     120.00   \n",
      "17                                   Rear axle       8.25     537.19   \n",
      "18                           Wheels/tires/caps       5.00    3787.96   \n",
      "\n",
      "    mean_price  \n",
      "0    77.562199  \n",
      "1   107.468519  \n",
      "2    64.726908  \n",
      "3    73.924931  \n",
      "4    93.500015  \n",
      "5   285.898978  \n",
      "6   553.381043  \n",
      "7   117.016695  \n",
      "8    80.827419  \n",
      "9   134.930699  \n",
      "10   83.775463  \n",
      "11  139.058655  \n",
      "12  276.697545  \n",
      "13   53.712381  \n",
      "14   32.653200  \n",
      "15  118.785581  \n",
      "16   25.566957  \n",
      "17  102.231127  \n",
      "18  364.560357  \n"
     ]
    }
   ],
   "source": [
    "#part_categories['part_price'] = pd.to_numeric(part_categories['part_price'])\n",
    "\n",
    "#print(part_categories.head())\n",
    "price_statistics_added_to_cart = (\n",
    "    part_categories.groupby('part_type')['part_price']\n",
    "    .agg( min_price='min', max_price='max', mean_price='mean')\n",
    "    .reset_index())\n",
    "print(price_statistics_added_to_cart)\n"
   ]
  },
  {
   "cell_type": "code",
   "execution_count": 97,
   "metadata": {},
   "outputs": [],
   "source": [
    "#price_statistics_sold = (\n",
    "#    part_categories.groupby('part_type')['part_price']\n",
    "#    .agg( min_price='min', max_price='max', mean_price='mean')\n",
    "#    .reset_index())\n",
    "#print(price_statistics_added_to_cart)\n"
   ]
  },
  {
   "cell_type": "markdown",
   "metadata": {},
   "source": [
    "### Merging ADDED TO THE CART product type statistics with value counts"
   ]
  },
  {
   "cell_type": "code",
   "execution_count": 100,
   "metadata": {},
   "outputs": [
    {
     "name": "stdout",
     "output_type": "stream",
     "text": [
      "                            part_type  count\n",
      "0  Devices/switches/electronic system    685\n",
      "1                      Cabin/interior    505\n",
      "2                     Lighting system    301\n",
      "3                                Door    274\n",
      "4           Exterior front body parts    233\n",
      "                                     part_type  min_price  max_price  \\\n",
      "0    Air conditioning-heating system/radiators       5.00     900.00   \n",
      "1                         Body/body parts/hook       5.17    1722.72   \n",
      "2                                 Brake system       3.18     381.63   \n",
      "3                               Cabin/interior       1.91    1647.05   \n",
      "4           Devices/switches/electronic system       1.98    3000.00   \n",
      "5                                         Door       2.99    1073.32   \n",
      "6                                       Engine       4.00    7320.50   \n",
      "7                    Exterior front body parts       4.12    3183.21   \n",
      "8                     Exterior rear body parts       5.00     607.44   \n",
      "9                                   Front axle       1.61    1122.35   \n",
      "10                         Fuel mixture system       0.00    1992.00   \n",
      "11                          Gas exhaust system       0.00     826.44   \n",
      "12                 Gearbox/clutch/transmission       7.00    2650.00   \n",
      "13                                       Glass       6.00     409.41   \n",
      "14  Headlight/headlamp washing/cleaning system       5.00     149.36   \n",
      "15                             Lighting system       4.00     918.02   \n",
      "16                                 Other parts       3.10     120.00   \n",
      "17                                   Rear axle       8.25     537.19   \n",
      "18                           Wheels/tires/caps       5.00    3787.96   \n",
      "\n",
      "    mean_price  units_in_cart  \n",
      "0    77.562199            141  \n",
      "1   107.468519             81  \n",
      "2    64.726908            152  \n",
      "3    73.924931            505  \n",
      "4    93.500015            685  \n",
      "5   285.898978            274  \n",
      "6   553.381043            230  \n",
      "7   117.016695            233  \n",
      "8    80.827419            124  \n",
      "9   134.930699            143  \n",
      "10   83.775463            216  \n",
      "11  139.058655            119  \n",
      "12  276.697545            167  \n",
      "13   53.712381             42  \n",
      "14   32.653200             50  \n",
      "15  118.785581            301  \n",
      "16   25.566957             23  \n",
      "17  102.231127             71  \n",
      "18  364.560357             84  \n"
     ]
    }
   ],
   "source": [
    "#categories_value_counts_df = categories_value_counts.reset_index()\n",
    "categories_value_counts_df = categories_value_counts_df.drop(['index'], axis=1)\n",
    "print(categories_value_counts_df.head())\n",
    "categories_value_counts_df.columns = ['part_type', 'units_in_cart']\n",
    "product_added_to_cart_statistics = price_statistics_added_to_cart.merge(\n",
    "    categories_value_counts_df,  \n",
    "    on='part_type',\n",
    "    how='left' \n",
    ")\n",
    "print(product_added_to_cart_statistics)\n",
    "\n",
    "# Merge on the common column 'part_type'\n",
    "# Use a left join to keep all product_statistics rows"
   ]
  },
  {
   "cell_type": "markdown",
   "metadata": {},
   "source": [
    "### Adding potential revenue"
   ]
  },
  {
   "cell_type": "code",
   "execution_count": 27,
   "metadata": {},
   "outputs": [
    {
     "name": "stdout",
     "output_type": "stream",
     "text": [
      "                                     part_type  min_price  max_price  \\\n",
      "0    Air conditioning-heating system/radiators       5.00     900.00   \n",
      "1                         Body/body parts/hook       5.17    1722.72   \n",
      "2                                 Brake system       3.18     381.63   \n",
      "3                               Cabin/interior       1.91    1647.05   \n",
      "4           Devices/switches/electronic system       1.98    3000.00   \n",
      "5                                         Door       2.99    1073.32   \n",
      "6                                       Engine       4.00    7320.50   \n",
      "7                    Exterior front body parts       4.12    3183.21   \n",
      "8                     Exterior rear body parts       5.00     607.44   \n",
      "9                                   Front axle       1.61    1122.35   \n",
      "10                         Fuel mixture system       0.00    1992.00   \n",
      "11                          Gas exhaust system       0.00     826.44   \n",
      "12                 Gearbox/clutch/transmission       7.00    2650.00   \n",
      "13                                       Glass       6.00     409.41   \n",
      "14  Headlight/headlamp washing/cleaning system       5.00     149.36   \n",
      "15                             Lighting system       4.00     918.02   \n",
      "16                                 Other parts       3.10     120.00   \n",
      "17                                   Rear axle       8.25     537.19   \n",
      "18                           Wheels/tires/caps       5.00    3787.96   \n",
      "\n",
      "    mean_price  units_in_cart  Potential Revenue  \n",
      "0    77.562199            141           10936.27  \n",
      "1   107.468519             81            8704.95  \n",
      "2    64.726908            152            9838.49  \n",
      "3    73.924931            505           37332.09  \n",
      "4    93.500015            685           64047.51  \n",
      "5   285.898978            274           78336.32  \n",
      "6   553.381043            230          127277.64  \n",
      "7   117.016695            233           27264.89  \n",
      "8    80.827419            124           10022.60  \n",
      "9   134.930699            143           19295.09  \n",
      "10   83.775463            216           18095.50  \n",
      "11  139.058655            119           16547.98  \n",
      "12  276.697545            167           46208.49  \n",
      "13   53.712381             42            2255.92  \n",
      "14   32.653200             50            1632.66  \n",
      "15  118.785581            301           35754.46  \n",
      "16   25.566957             23             588.04  \n",
      "17  102.231127             71            7258.41  \n",
      "18  364.560357             84           30623.07  \n",
      "If all added products were sold brand.name would generate 552020.3799999999 amount of some money :) (Guessing - Finland, so Euros) \n"
     ]
    }
   ],
   "source": [
    "product_added_to_cart_statistics ['Potential Revenue'] = product_added_to_cart_statistics ['units_in_cart'] * product_added_to_cart_statistics ['mean_price']\n",
    "print(product_added_to_cart_statistics )\n",
    "print(\"If all added products were sold brand.name would generate \"+str(product_added_to_cart_statistics ['Potential Revenue'].sum()) \n",
    "      + \" amount of some money :) (Guessing - Finland, so Euros) \")"
   ]
  }
 ],
 "metadata": {
  "kernelspec": {
   "display_name": "base",
   "language": "python",
   "name": "python3"
  },
  "language_info": {
   "codemirror_mode": {
    "name": "ipython",
    "version": 3
   },
   "file_extension": ".py",
   "mimetype": "text/x-python",
   "name": "python",
   "nbconvert_exporter": "python",
   "pygments_lexer": "ipython3",
   "version": "3.11.5"
  }
 },
 "nbformat": 4,
 "nbformat_minor": 2
}
